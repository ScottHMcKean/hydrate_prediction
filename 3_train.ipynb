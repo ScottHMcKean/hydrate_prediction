{
 "cells": [
  {
   "cell_type": "markdown",
   "id": "ddf2ea9d",
   "metadata": {},
   "source": [
    "# Train"
   ]
  },
  {
   "cell_type": "code",
   "execution_count": 1,
   "id": "8c730937",
   "metadata": {},
   "outputs": [
    {
     "ename": "NameError",
     "evalue": "name 'spark' is not defined",
     "output_type": "error",
     "traceback": [
      "\u001b[31m---------------------------------------------------------------------------\u001b[39m",
      "\u001b[31mNameError\u001b[39m                                 Traceback (most recent call last)",
      "\u001b[36mCell\u001b[39m\u001b[36m \u001b[39m\u001b[32mIn[1]\u001b[39m\u001b[32m, line 1\u001b[39m\n\u001b[32m----> \u001b[39m\u001b[32m1\u001b[39m df = \u001b[43mspark\u001b[49m.table(\u001b[33m\"\u001b[39m\u001b[33mshm.3w.well_data\u001b[39m\u001b[33m\"\u001b[39m).toPandas()\n",
      "\u001b[31mNameError\u001b[39m: name 'spark' is not defined"
     ]
    }
   ],
   "source": [
    "df = spark.table(\"shm.3w.well_data\").toPandas()"
   ]
  },
  {
   "cell_type": "code",
   "execution_count": null,
   "id": "548eaff7",
   "metadata": {},
   "outputs": [],
   "source": [
    "indices = ['timestamp', 'well_number']\n",
    "\n",
    "vars = [\n",
    "    'P-PDG',\n",
    "    'P-TPT',\n",
    "    'T-TPT',\n",
    "    'P-MON-CKP',\n",
    "    'T-JUS-CKP',\n",
    "    'QGL'\n",
    "    ]\n",
    "\n",
    "target = ['state']\n",
    "\n",
    "x_df = (\n",
    "    df[vars + indices + target]\n",
    "    .sort_values(['well_number','timestamp'])\n",
    "    .ffill().dropna()\n",
    "    .copy()\n",
    ")"
   ]
  },
  {
   "cell_type": "code",
   "execution_count": null,
   "id": "4ee8165c",
   "metadata": {},
   "outputs": [],
   "source": [
    "from src."
   ]
  }
 ],
 "metadata": {
  "kernelspec": {
   "display_name": ".venv",
   "language": "python",
   "name": "python3"
  },
  "language_info": {
   "codemirror_mode": {
    "name": "ipython",
    "version": 3
   },
   "file_extension": ".py",
   "mimetype": "text/x-python",
   "name": "python",
   "nbconvert_exporter": "python",
   "pygments_lexer": "ipython3",
   "version": "3.12.3"
  }
 },
 "nbformat": 4,
 "nbformat_minor": 5
}
