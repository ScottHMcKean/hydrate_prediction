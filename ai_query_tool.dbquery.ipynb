{
 "cells": [
  {
   "cell_type": "code",
   "execution_count": 0,
   "metadata": {
    "application/vnd.databricks.v1+cell": {
     "cellMetadata": {
      "byteLimit": 10485760,
      "rowLimit": 1000
     },
     "inputWidgets": {},
     "nuid": "a46bfeba-1262-427f-a042-03a2ef08e798",
     "showTitle": false,
     "tableResultSettingsMap": {},
     "title": ""
    }
   },
   "outputs": [],
   "source": [
    "CREATE OR REPLACE FUNCTION shm.3w.get_hydrate_predictions(\n",
    "  p_well_number INT DEFAULT 16 COMMENT \"Well number between 1 and 50, must be integer\", \n",
    "  p_num_minutes INT DEFAULT 1 COMMENT \"Number of minutes to predict, must be under 30\"\n",
    ")\n",
    "RETURNS TABLE (\n",
    "  timestamp TIMESTAMP,\n",
    "  prediction DOUBLE \n",
    ")\n",
    "COMMENT \"Generates hydrate predictions for the next couple of minutes\"\n",
    "RETURN\n",
    "SELECT \n",
    "  f.timestamp,\n",
    "  AI_QUERY(\n",
    "    'hydrate_xgboost',\n",
    "    request => NAMED_STRUCT(\n",
    "      'T-JUS-CKP', f.`T-JUS-CKP`,\n",
    "      'T-TPT', f.`T-TPT`,\n",
    "      'P-TPT', f.`P-TPT`,\n",
    "      'P-MON-CKP', f.`P-MON-CKP`,\n",
    "      'P-PDG', f.`P-PDG`\n",
    "    )\n",
    "  ) AS prediction\n",
    "FROM shm.3w.filter_well_data(p_well_number, p_num_minutes) f"
   ]
  }
 ],
 "metadata": {
  "application/vnd.databricks.v1+notebook": {
   "computePreferences": null,
   "dashboards": [],
   "environmentMetadata": null,
   "inputWidgetPreferences": null,
   "language": "sql",
   "notebookMetadata": {
    "pythonIndentUnit": 2,
    "sqlQueryOptions": {
     "applyAutoLimit": true,
     "catalog": "main",
     "schema": "default"
    }
   },
   "notebookName": "ai_query_tool.dbquery.ipynb",
   "widgets": {
    "num_minutes": {
     "currentValue": "1",
     "nuid": "9903a160-92d3-43a7-887a-2ac9305f26b8",
     "typedWidgetInfo": {
      "autoCreated": false,
      "defaultValue": "1",
      "label": "",
      "name": "num_minutes",
      "options": {
       "widgetDisplayType": "Text",
       "validationRegex": null
      },
      "parameterDataType": "String"
     },
     "widgetInfo": {
      "widgetType": "text",
      "defaultValue": "1",
      "label": "",
      "name": "num_minutes",
      "options": {
       "widgetType": "text",
       "autoCreated": false,
       "validationRegex": null
      }
     }
    },
    "well_number": {
     "currentValue": "16",
     "nuid": "ade59026-9e60-4d71-95e3-08c0463c4e6e",
     "typedWidgetInfo": {
      "autoCreated": false,
      "defaultValue": "16",
      "label": "",
      "name": "well_number",
      "options": {
       "widgetDisplayType": "Text",
       "validationRegex": null
      },
      "parameterDataType": "String"
     },
     "widgetInfo": {
      "widgetType": "text",
      "defaultValue": "16",
      "label": "",
      "name": "well_number",
      "options": {
       "widgetType": "text",
       "autoCreated": false,
       "validationRegex": null
      }
     }
    }
   }
  },
  "language_info": {
   "name": "sql"
  }
 },
 "nbformat": 4,
 "nbformat_minor": 0
}
