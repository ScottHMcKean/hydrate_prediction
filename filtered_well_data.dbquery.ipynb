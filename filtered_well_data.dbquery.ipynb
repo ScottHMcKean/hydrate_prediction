{
 "cells": [
  {
   "cell_type": "code",
   "execution_count": 0,
   "metadata": {
    "application/vnd.databricks.v1+cell": {
     "cellMetadata": {
      "byteLimit": 10485760,
      "rowLimit": 1000
     },
     "inputWidgets": {},
     "nuid": "b369ba21-86df-4301-988e-00ac82c5ac8e",
     "showTitle": false,
     "tableResultSettingsMap": {},
     "title": ""
    }
   },
   "outputs": [],
   "source": [
    "CREATE OR REPLACE FUNCTION shm.3w.filter_well_data(\n",
    "  p_well_number INT COMMENT 'well number',\n",
    "  p_num_minutes INT COMMENT 'number of minutes'\n",
    ")\n",
    "RETURNS TABLE (\n",
    "  `T-JUS-CKP` DOUBLE,\n",
    "  `T-TPT` DOUBLE,\n",
    "  `P-TPT` DOUBLE,\n",
    "  `P-MON-CKP` DOUBLE,\n",
    "  `P-PDG` DOUBLE,\n",
    "  timestamp TIMESTAMP\n",
    ")\n",
    "RETURN\n",
    "SELECT\n",
    "  `T-JUS-CKP`,\n",
    "  `T-TPT`,\n",
    "  `P-TPT`,\n",
    "  `P-MON-CKP`,\n",
    "  `P-PDG`,\n",
    "  timestamp\n",
    "FROM (\n",
    "  SELECT\n",
    "    *,\n",
    "    MAX(timestamp) OVER (PARTITION BY well_number) AS max_ts\n",
    "  FROM shm.3w.well_data\n",
    ")\n",
    "WHERE well_number = p_well_number\n",
    "AND timestamp >= date_add(MINUTE, -p_num_minutes, max_ts)"
   ]
  }
 ],
 "metadata": {
  "application/vnd.databricks.v1+notebook": {
   "computePreferences": null,
   "dashboards": [],
   "environmentMetadata": null,
   "inputWidgetPreferences": null,
   "language": "sql",
   "notebookMetadata": {
    "pythonIndentUnit": 2,
    "sqlQueryOptions": {
     "applyAutoLimit": true,
     "catalog": "main",
     "schema": "default"
    }
   },
   "notebookName": "filtered_well_data.dbquery.ipynb",
   "widgets": {}
  },
  "language_info": {
   "name": "sql"
  }
 },
 "nbformat": 4,
 "nbformat_minor": 0
}
