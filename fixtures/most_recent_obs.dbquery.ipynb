{
 "cells": [
  {
   "cell_type": "code",
   "execution_count": 0,
   "metadata": {
    "application/vnd.databricks.v1+cell": {
     "cellMetadata": {
      "byteLimit": 10485760,
      "rowLimit": 1000
     },
     "inputWidgets": {},
     "nuid": "40244f41-6043-4575-9659-e08b3a1c6a49",
     "showTitle": false,
     "tableResultSettingsMap": {},
     "title": ""
    }
   },
   "outputs": [],
   "source": [
    "CREATE OR REPLACE FUNCTION shm.3w.most_recent_obs(well_number_param BIGINT DEFAULT -1 COMMENT \"Well number between 1 and 50, must be an integer\")\n",
    "RETURNS TABLE (\n",
    "  well_number BIGINT, \n",
    "  state INT, \n",
    "  timestamp TIMESTAMP,\n",
    "  `T-JUS-CKP` DOUBLE,\n",
    "  `T-TPT` DOUBLE,\n",
    "  `P-TPT` DOUBLE,\n",
    "  `P-MON-CKP` DOUBLE,\n",
    "  `P-PDG` DOUBLE,\n",
    "  source_file STRING\n",
    "  )\n",
    "COMMENT \"Returns the count of each failure type for a given well number. If well_number_param is -1, returns counts for all wells.\"\n",
    "RETURN\n",
    "SELECT \n",
    "  well_number,\n",
    "  state,\n",
    "  timestamp,\n",
    "  `T-JUS-CKP`,\n",
    "  `T-TPT`,\n",
    "  `P-TPT`,\n",
    "  `P-MON-CKP`,\n",
    "  `P-PDG`,\n",
    "  source_file\n",
    "FROM (\n",
    "  SELECT\n",
    "  *,\n",
    "  ROW_NUMBER() OVER (PARTITION BY well_number, state ORDER BY timestamp DESC) AS rn\n",
    "FROM shm.3w.well_data\n",
    "WHERE (well_number_param = -1 OR well_number == well_number_param)\n",
    ")\n",
    "WHERE rn = 1"
   ]
  }
 ],
 "metadata": {
  "application/vnd.databricks.v1+notebook": {
   "computePreferences": null,
   "dashboards": [],
   "environmentMetadata": null,
   "inputWidgetPreferences": null,
   "language": "sql",
   "notebookMetadata": {
    "pythonIndentUnit": 2,
    "sqlQueryOptions": {
     "applyAutoLimit": true,
     "catalog": "ah_demos",
     "schema": "default"
    }
   },
   "notebookName": "most_recent_obs.dbquery.ipynb",
   "widgets": {
    "well_number_param": {
     "currentValue": "6",
     "nuid": "1ef66dfb-158d-4de2-993f-ed0bccb256d6",
     "typedWidgetInfo": {
      "autoCreated": false,
      "defaultValue": "-1",
      "label": "",
      "name": "well_number_param",
      "options": {
       "widgetDisplayType": "Text",
       "validationRegex": null
      },
      "parameterDataType": "Integer"
     },
     "widgetInfo": {
      "widgetType": "text",
      "defaultValue": "-1",
      "label": "",
      "name": "well_number_param",
      "options": {
       "widgetType": "text",
       "autoCreated": false,
       "validationRegex": null
      }
     }
    }
   }
  },
  "language_info": {
   "name": "sql"
  }
 },
 "nbformat": 4,
 "nbformat_minor": 0
}
