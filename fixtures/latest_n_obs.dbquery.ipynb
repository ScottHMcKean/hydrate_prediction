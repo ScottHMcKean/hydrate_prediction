{
 "cells": [
  {
   "cell_type": "code",
   "execution_count": 0,
   "metadata": {
    "application/vnd.databricks.v1+cell": {
     "cellMetadata": {
      "byteLimit": 10485760,
      "rowLimit": 1000
     },
     "inputWidgets": {},
     "nuid": "846e9ca9-01f2-4a2f-a463-401d1944666c",
     "showTitle": false,
     "tableResultSettingsMap": {},
     "title": ""
    }
   },
   "outputs": [],
   "source": [
    "CREATE OR REPLACE FUNCTION shm.3w.latest_n_obs(\n",
    "  well_number_param BIGINT DEFAULT -1 COMMENT \"Well number between 1 and 50, must be an integer\",\n",
    "  n_obs_param INT DEFAULT 5 COMMENT \"Number of observations to return\")\n",
    "RETURNS TABLE (\n",
    "  well_number DOUBLE, \n",
    "  timestamp TIMESTAMP,\n",
    "  `T-JUS-CKP` DOUBLE,\n",
    "  `T-TPT` DOUBLE,\n",
    "  `P-TPT` DOUBLE,\n",
    "  `P-MON-CKP` DOUBLE,\n",
    "  `P-PDG` DOUBLE,\n",
    "  `QGL` DOUBLE\n",
    "  )\n",
    "COMMENT \"Gives the latest n observations for the well. If well_number_param is -1, returns the most recent n observations for all wells.\"\n",
    "RETURN\n",
    "SELECT well_number, timestamp, `T-JUS-CKP`, `T-TPT`, `P-TPT`, `P-MON-CKP`, `P-PDG`, `QGL`\n",
    "FROM (\n",
    "  SELECT \n",
    "    well_number,\n",
    "    timestamp,\n",
    "    `T-JUS-CKP`,\n",
    "    `T-TPT`,\n",
    "    `P-TPT`,\n",
    "    `P-MON-CKP`,\n",
    "    `P-PDG`,\n",
    "    `QGL`,\n",
    "    ROW_NUMBER() OVER (PARTITION BY well_number ORDER BY timestamp DESC) as row_num\n",
    "  FROM shm.3w.well_data\n",
    "  WHERE (well_number_param = -1 OR well_number = well_number_param)\n",
    "  ORDER BY timestamp DESC\n",
    "  LIMIT 1000 -- Use a large constant limit\n",
    ") subquery\n",
    "WHERE row_num <= n_obs_param"
   ]
  }
 ],
 "metadata": {
  "application/vnd.databricks.v1+notebook": {
   "computePreferences": null,
   "dashboards": [],
   "environmentMetadata": null,
   "inputWidgetPreferences": null,
   "language": "sql",
   "notebookMetadata": {
    "pythonIndentUnit": 2,
    "sqlQueryOptions": {
     "applyAutoLimit": true,
     "catalog": "ah_demos",
     "schema": "default"
    }
   },
   "notebookName": "latest_n_obs.dbquery.ipynb",
   "widgets": {}
  },
  "language_info": {
   "name": "sql"
  }
 },
 "nbformat": 4,
 "nbformat_minor": 0
}
