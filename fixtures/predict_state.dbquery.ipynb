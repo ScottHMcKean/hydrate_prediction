{
 "cells": [
  {
   "cell_type": "code",
   "execution_count": 0,
   "metadata": {
    "application/vnd.databricks.v1+cell": {
     "cellMetadata": {
      "byteLimit": 10485760,
      "rowLimit": 1000
     },
     "inputWidgets": {},
     "nuid": "0e914f8c-a0d3-4dbf-83c5-50082e863155",
     "showTitle": false,
     "tableResultSettingsMap": {},
     "title": ""
    }
   },
   "outputs": [],
   "source": [
    "CREATE OR REPLACE FUNCTION shm.3w.predict_state(\n",
    "    well_number_param INT DEFAULT -1 COMMENT \"Well number between 1 and 50, must be integer. Select -1 to get all wells\", \n",
    "    n_obs_param INT DEFAULT 10 COMMENT \"Number of observations to predict\"\n",
    ")\n",
    "RETURNS TABLE (\n",
    "    well_number INTEGER,\n",
    "    timestamp TIMESTAMP,\n",
    "    prediction INTEGER \n",
    ")\n",
    "COMMENT \"Generates hydrate predictions for the latest sensor readings\"\n",
    "RETURN\n",
    "SELECT \n",
    "    well_number,\n",
    "    timestamp,\n",
    "    AI_QUERY(\n",
    "        'shm_3w_lightgbm',\n",
    "        request => NAMED_STRUCT(\n",
    "        'P-PDG', `latest_n_obs`.`P-PDG`,\n",
    "        'P-TPT', `latest_n_obs`.`P-TPT`,\n",
    "        'T-TPT', `latest_n_obs`.`T-TPT`,\n",
    "        'P-MON-CKP', `latest_n_obs`.`P-MON-CKP`,\n",
    "        'T-JUS-CKP', `latest_n_obs`.`T-JUS-CKP`,\n",
    "        'QGL', `latest_n_obs`.`QGL`,\n",
    "        'well_number', `latest_n_obs`.`well_number`\n",
    "        ),\n",
    "        returnType => 'DOUBLE'\n",
    "    ) AS prediction\n",
    "FROM shm.3w.latest_n_obs(well_number_param, n_obs_param)"
   ]
  }
 ],
 "metadata": {
  "application/vnd.databricks.v1+notebook": {
   "computePreferences": null,
   "dashboards": [],
   "environmentMetadata": null,
   "inputWidgetPreferences": null,
   "language": "sql",
   "notebookMetadata": {
    "pythonIndentUnit": 2,
    "sqlQueryOptions": {
     "applyAutoLimit": true,
     "catalog": "ah_demos",
     "schema": "default"
    }
   },
   "notebookName": "predict_state.dbquery.ipynb",
   "widgets": {}
  },
  "language_info": {
   "name": "sql"
  }
 },
 "nbformat": 4,
 "nbformat_minor": 0
}
