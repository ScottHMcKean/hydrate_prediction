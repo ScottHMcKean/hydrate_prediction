{
 "cells": [
  {
   "cell_type": "code",
   "execution_count": 0,
   "metadata": {
    "application/vnd.databricks.v1+cell": {
     "cellMetadata": {
      "byteLimit": 10485760,
      "rowLimit": 1000
     },
     "inputWidgets": {},
     "nuid": "34dfcee6-aee4-49ae-af26-011769ad0ce2",
     "showTitle": false,
     "tableResultSettingsMap": {},
     "title": ""
    }
   },
   "outputs": [],
   "source": [
    "CREATE OR REPLACE FUNCTION shm.3w.well_failure_counts(well_number_param BIGINT DEFAULT -1 COMMENT \"Well number between 1 and 50, must be an integer\")\n",
    "RETURNS TABLE (well_number BIGINT, failure_type STRING, failure_count BIGINT)\n",
    "COMMENT \"Returns the count of each failure type for a given well number. If well_number_param is -1, returns counts for all wells.\"\n",
    "RETURN\n",
    "SELECT\n",
    "  well_number,\n",
    "  CASE state\n",
    "    WHEN 0 THEN 'Normal'\n",
    "    WHEN 1 THEN 'Abrupt Increase of BSW'\n",
    "    WHEN 2 THEN 'Spurious Closure of DHSV'\n",
    "    WHEN 3 THEN 'Severe Slugging'\n",
    "    WHEN 4 THEN 'Flow Instability'\n",
    "    WHEN 5 THEN 'Rapid Productivity Loss'\n",
    "    WHEN 6 THEN 'Quick Restriction in PCK'\n",
    "    WHEN 7 THEN 'Scaling in PCK'\n",
    "    WHEN 8 THEN 'Hydrate in Production Line'\n",
    "  END AS failure_type,\n",
    "  COUNT(*) AS failure_count\n",
    "FROM shm.3w.well_data_c\n",
    "WHERE (well_number_param = -1 OR well_number = well_number_param)\n",
    "GROUP BY well_number, state"
   ]
  }
 ],
 "metadata": {
  "application/vnd.databricks.v1+notebook": {
   "computePreferences": null,
   "dashboards": [],
   "environmentMetadata": null,
   "inputWidgetPreferences": null,
   "language": "sql",
   "notebookMetadata": {
    "pythonIndentUnit": 2,
    "sqlQueryOptions": {
     "applyAutoLimit": true,
     "catalog": "ah_demos",
     "schema": "default"
    }
   },
   "notebookName": "well_failure_counts.dbquery.ipynb",
   "widgets": {
    "well_number_param": {
     "currentValue": "-1",
     "nuid": "f42b5c10-c1d3-4cee-aac7-609cbc1e7763",
     "typedWidgetInfo": {
      "autoCreated": false,
      "defaultValue": "",
      "label": "",
      "name": "well_number_param",
      "options": {
       "widgetDisplayType": "Text",
       "validationRegex": null
      },
      "parameterDataType": "String"
     },
     "widgetInfo": {
      "widgetType": "text",
      "defaultValue": "",
      "label": "",
      "name": "well_number_param",
      "options": {
       "widgetType": "text",
       "autoCreated": false,
       "validationRegex": null
      }
     }
    }
   }
  },
  "language_info": {
   "name": "sql"
  }
 },
 "nbformat": 4,
 "nbformat_minor": 0
}
