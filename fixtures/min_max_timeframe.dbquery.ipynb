{
 "cells": [
  {
   "cell_type": "code",
   "execution_count": 0,
   "metadata": {
    "application/vnd.databricks.v1+cell": {
     "cellMetadata": {
      "byteLimit": 10485760,
      "rowLimit": 1000
     },
     "inputWidgets": {},
     "nuid": "4c66f39d-c0f0-44f4-9b99-14e8cd05786d",
     "showTitle": false,
     "tableResultSettingsMap": {},
     "title": ""
    }
   },
   "outputs": [],
   "source": [
    "CREATE OR REPLACE FUNCTION shm.3w.well_time_bounds(well_number_param BIGINT DEFAULT -1 COMMENT \"Well number between 1 and 50, must be an integer\")\n",
    "RETURNS TABLE (well_number BIGINT, min_timestamp TIMESTAMP, max_timestamp TIMESTAMP)\n",
    "COMMENT \"Returns the count of each failure type for a given well number. If well_number_param is -1, returns counts for all wells.\"\n",
    "RETURN\n",
    "SELECT\n",
    "  well_number,\n",
    "  min(timestamp) as min_timestamp,\n",
    "  max(timestamp) as max_timestamp\n",
    "FROM shm.3w.well_data_c\n",
    "WHERE (well_number_param = -1 OR well_number = well_number_param)\n",
    "GROUP BY well_number"
   ]
  }
 ],
 "metadata": {
  "application/vnd.databricks.v1+notebook": {
   "computePreferences": null,
   "dashboards": [],
   "environmentMetadata": null,
   "inputWidgetPreferences": null,
   "language": "sql",
   "notebookMetadata": {
    "pythonIndentUnit": 2,
    "sqlQueryOptions": {
     "applyAutoLimit": true,
     "catalog": "ah_demos",
     "schema": "default"
    }
   },
   "notebookName": "min_max_timeframe.dbquery.ipynb",
   "widgets": {}
  },
  "language_info": {
   "name": "sql"
  }
 },
 "nbformat": 4,
 "nbformat_minor": 0
}
