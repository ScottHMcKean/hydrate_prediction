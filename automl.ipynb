{
 "cells": [
  {
   "cell_type": "code",
   "execution_count": 0,
   "metadata": {
    "application/vnd.databricks.v1+cell": {
     "cellMetadata": {
      "byteLimit": 2048000,
      "rowLimit": 10000
     },
     "inputWidgets": {},
     "nuid": "275c5116-10ab-4728-9777-b5021e993383",
     "showTitle": false,
     "tableResultSettingsMap": {},
     "title": ""
    }
   },
   "outputs": [],
   "source": [
    "import mlflow"
   ]
  },
  {
   "cell_type": "markdown",
   "metadata": {
    "application/vnd.databricks.v1+cell": {
     "cellMetadata": {},
     "inputWidgets": {},
     "nuid": "a6c1b127-b112-40c2-bef4-cf593c68cd64",
     "showTitle": false,
     "tableResultSettingsMap": {},
     "title": ""
    }
   },
   "source": [
    "## Config"
   ]
  },
  {
   "cell_type": "code",
   "execution_count": 0,
   "metadata": {
    "application/vnd.databricks.v1+cell": {
     "cellMetadata": {
      "byteLimit": 2048000,
      "rowLimit": 10000
     },
     "inputWidgets": {},
     "nuid": "91a4638e-51b0-4329-8875-9d7203e454e5",
     "showTitle": false,
     "tableResultSettingsMap": {},
     "title": ""
    }
   },
   "outputs": [],
   "source": [
    "from mlflow.models import ModelConfig\n",
    "config = ModelConfig(development_config='config.yaml')\n",
    "\n",
    "# A little python sugar syntax\n",
    "class DotDict(dict):\n",
    "    def __getattr__(self, name):\n",
    "        value = self[name]\n",
    "        if isinstance(value, dict):\n",
    "            return DotDict(value)\n",
    "        return value\n",
    "      \n",
    "dconf = DotDict(config.to_dict())"
   ]
  },
  {
   "cell_type": "markdown",
   "metadata": {
    "application/vnd.databricks.v1+cell": {
     "cellMetadata": {},
     "inputWidgets": {},
     "nuid": "28ece89c-70e0-41bb-84f9-5c1c07199ff3",
     "showTitle": false,
     "tableResultSettingsMap": {},
     "title": ""
    }
   },
   "source": [
    "## Data\n"
   ]
  },
  {
   "cell_type": "markdown",
   "metadata": {
    "application/vnd.databricks.v1+cell": {
     "cellMetadata": {},
     "inputWidgets": {},
     "nuid": "e1f4281e-33df-405f-b8ec-a10f37146691",
     "showTitle": false,
     "tableResultSettingsMap": {},
     "title": ""
    }
   },
   "source": [
    "We will use the QGL column as our continous target, and the state as our classification target. 50% of the QGL observations are non-zero, so it a decent, if not hard to predict target"
   ]
  },
  {
   "cell_type": "code",
   "execution_count": 0,
   "metadata": {
    "application/vnd.databricks.v1+cell": {
     "cellMetadata": {
      "byteLimit": 2048000,
      "implicitDf": true,
      "rowLimit": 10000
     },
     "inputWidgets": {},
     "nuid": "d91f1927-5095-4eff-9728-9f831416fb18",
     "showTitle": false,
     "tableResultSettingsMap": {},
     "title": ""
    }
   },
   "outputs": [],
   "source": [
    "%sql\n",
    "SELECT count(*) FROM shm.3w.well_data WHERE QGL > 0"
   ]
  },
  {
   "cell_type": "code",
   "execution_count": 0,
   "metadata": {
    "application/vnd.databricks.v1+cell": {
     "cellMetadata": {
      "byteLimit": 2048000,
      "implicitDf": true,
      "rowLimit": 10000
     },
     "inputWidgets": {},
     "nuid": "33770d1d-00f5-463f-bfa4-001059fa2ca2",
     "showTitle": false,
     "tableResultSettingsMap": {},
     "title": ""
    }
   },
   "outputs": [],
   "source": [
    "well_numbers = spark.sql(\"SELECT DISTINCT well_number FROM shm.`3w`.well_data\").rdd.map(lambda row: row[0]).collect()\n",
    "well_numbers[0:3]"
   ]
  },
  {
   "cell_type": "code",
   "execution_count": 0,
   "metadata": {
    "application/vnd.databricks.v1+cell": {
     "cellMetadata": {
      "byteLimit": 2048000,
      "rowLimit": 10000
     },
     "inputWidgets": {},
     "nuid": "417f6cc5-7989-416b-b9dc-7c78b32e395c",
     "showTitle": false,
     "tableResultSettingsMap": {},
     "title": ""
    }
   },
   "outputs": [],
   "source": [
    "( \n",
    "  spark.table(f\"{dconf.catalog}.{dconf.schema}.{dconf.table}\")\n",
    "  .filter('well_number = 3')\n",
    "  .limit(10)\n",
    "  .display()\n",
    ")"
   ]
  },
  {
   "cell_type": "markdown",
   "metadata": {
    "application/vnd.databricks.v1+cell": {
     "cellMetadata": {},
     "inputWidgets": {},
     "nuid": "3c42289b-c6bb-4027-9fb5-78ac50dfaef1",
     "showTitle": false,
     "tableResultSettingsMap": {},
     "title": ""
    }
   },
   "source": [
    "## AutoML"
   ]
  },
  {
   "cell_type": "code",
   "execution_count": 0,
   "metadata": {
    "application/vnd.databricks.v1+cell": {
     "cellMetadata": {
      "byteLimit": 2048000,
      "rowLimit": 10000
     },
     "inputWidgets": {},
     "nuid": "f2e934fb-3791-446c-9326-d567fa4506eb",
     "showTitle": false,
     "tableResultSettingsMap": {},
     "title": ""
    }
   },
   "outputs": [],
   "source": [
    "from databricks import automl"
   ]
  },
  {
   "cell_type": "code",
   "execution_count": 0,
   "metadata": {
    "application/vnd.databricks.v1+cell": {
     "cellMetadata": {
      "byteLimit": 2048000,
      "rowLimit": 10000
     },
     "inputWidgets": {},
     "nuid": "a72e5d83-deb3-4881-9d5b-f98782ddedd9",
     "showTitle": false,
     "tableResultSettingsMap": {},
     "title": ""
    }
   },
   "outputs": [],
   "source": [
    "mlflow.set_registry_uri(\"databricks-uc\")\n",
    "mlflow.set_tracking_uri(\"databricks\")"
   ]
  },
  {
   "cell_type": "code",
   "execution_count": 0,
   "metadata": {
    "application/vnd.databricks.v1+cell": {
     "cellMetadata": {
      "byteLimit": 2048000,
      "rowLimit": 10000
     },
     "inputWidgets": {},
     "nuid": "102c7f6a-b85a-42b4-ac5f-27393bf08871",
     "showTitle": false,
     "tableResultSettingsMap": {},
     "title": ""
    }
   },
   "outputs": [],
   "source": [
    "exp_name='/Users/scott.mckean@databricks.com/hydrate_automl'\n",
    "if mlflow.get_experiment_by_name(exp_name) is None:\n",
    "    mlflow.create_experiment(name=exp_name)\n",
    "\n",
    "mlflow.set_experiment(exp_name)\n",
    "experiment_id = mlflow.get_experiment_by_name(exp_name).experiment_id"
   ]
  },
  {
   "cell_type": "code",
   "execution_count": 0,
   "metadata": {
    "application/vnd.databricks.v1+cell": {
     "cellMetadata": {
      "byteLimit": 2048000,
      "rowLimit": 10000
     },
     "inputWidgets": {},
     "nuid": "7647d8db-4777-46db-8200-eb3b8847dde3",
     "showTitle": false,
     "tableResultSettingsMap": {},
     "title": ""
    }
   },
   "outputs": [],
   "source": [
    "mlflow.end_run()"
   ]
  },
  {
   "cell_type": "code",
   "execution_count": 0,
   "metadata": {
    "application/vnd.databricks.v1+cell": {
     "cellMetadata": {
      "byteLimit": 2048000,
      "rowLimit": 10000
     },
     "inputWidgets": {},
     "nuid": "20fd72c9-4e07-48f6-9899-ceaca76f667b",
     "showTitle": false,
     "tableResultSettingsMap": {},
     "title": ""
    }
   },
   "outputs": [],
   "source": [
    "for well_id in well_numbers[5:6]:\n",
    "    well_df = (\n",
    "      spark.table(f\"{dconf.catalog}.{dconf.schema}.{dconf.table}\")\n",
    "      .filter('well_number = 3')\n",
    "      .limit(10000)\n",
    "    )\n",
    "\n",
    "    summary = automl.regress(\n",
    "      dataset=well_df,\n",
    "      target_col='QGL',\n",
    "      primary_metric='mse',\n",
    "      exclude_cols='state',\n",
    "      experiment_dir=exp_name+f\"_well_{well_id}\",\n",
    "      exclude_frameworks=['lightgbm','xgboost'],\n",
    "      time_col='timestamp',\n",
    "      timeout_minutes=5\n",
    "    )\n",
    "\n",
    "    import pickle\n",
    "\n",
    "    with open('summary.pkl', 'wb') as f:\n",
    "        pickle.dump(summary, f)\n",
    "\n",
    "    mlflow.log_artifact('summary.pkl')\n",
    "\n",
    "    best_model_uri = summary.best_trial.model_path\n",
    "    mlflow.log_param(\"best_model_uri\", best_model_uri)\n",
    "    \n",
    "    unity_model_name = f\"{dconf.catalog}.{dconf.schema}.well_{well_id}\"\n",
    "\n",
    "    mlflow.register_model(best_model_uri, unity_model_name)"
   ]
  },
  {
   "cell_type": "code",
   "execution_count": 0,
   "metadata": {
    "application/vnd.databricks.v1+cell": {
     "cellMetadata": {
      "byteLimit": 2048000,
      "rowLimit": 10000
     },
     "inputWidgets": {},
     "nuid": "a57100d4-b93a-4db2-8584-7210bc0438fe",
     "showTitle": false,
     "tableResultSettingsMap": {},
     "title": ""
    }
   },
   "outputs": [],
   "source": [
    "from databricks import automl"
   ]
  }
 ],
 "metadata": {
  "application/vnd.databricks.v1+notebook": {
   "computePreferences": null,
   "dashboards": [],
   "environmentMetadata": {
    "base_environment": "",
    "environment_version": "2"
   },
   "inputWidgetPreferences": null,
   "language": "python",
   "notebookMetadata": {
    "mostRecentlyExecutedCommandWithImplicitDF": {
     "commandId": -1,
     "dataframes": [
      "_sqldf"
     ]
    },
    "pythonIndentUnit": 2
   },
   "notebookName": "automl",
   "widgets": {}
  },
  "language_info": {
   "name": "python"
  }
 },
 "nbformat": 4,
 "nbformat_minor": 0
}
