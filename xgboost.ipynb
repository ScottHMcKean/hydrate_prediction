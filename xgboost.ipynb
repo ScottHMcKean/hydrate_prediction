{
 "cells": [
  {
   "cell_type": "code",
   "execution_count": 0,
   "metadata": {
    "application/vnd.databricks.v1+cell": {
     "cellMetadata": {
      "byteLimit": 2048000,
      "rowLimit": 10000
     },
     "inputWidgets": {},
     "nuid": "475fb6ab-2c31-4045-9d97-2babe870a17f",
     "showTitle": false,
     "tableResultSettingsMap": {},
     "title": ""
    }
   },
   "outputs": [],
   "source": [
    "%pip install --upgrade --quiet mlflow xgboost\n",
    "%restart_python"
   ]
  },
  {
   "cell_type": "markdown",
   "metadata": {
    "application/vnd.databricks.v1+cell": {
     "cellMetadata": {},
     "inputWidgets": {},
     "nuid": "a6c1b127-b112-40c2-bef4-cf593c68cd64",
     "showTitle": false,
     "tableResultSettingsMap": {},
     "title": ""
    }
   },
   "source": [
    "## Config"
   ]
  },
  {
   "cell_type": "code",
   "execution_count": 0,
   "metadata": {
    "application/vnd.databricks.v1+cell": {
     "cellMetadata": {
      "byteLimit": 2048000,
      "rowLimit": 10000
     },
     "inputWidgets": {},
     "nuid": "91a4638e-51b0-4329-8875-9d7203e454e5",
     "showTitle": false,
     "tableResultSettingsMap": {},
     "title": ""
    }
   },
   "outputs": [],
   "source": [
    "import mlflow\n",
    "from mlflow.models import ModelConfig\n",
    "config = ModelConfig(development_config='config.yaml')\n",
    "\n",
    "# A little python sugar syntax\n",
    "class DotDict(dict):\n",
    "    def __getattr__(self, name):\n",
    "        value = self[name]\n",
    "        if isinstance(value, dict):\n",
    "            return DotDict(value)\n",
    "        return value\n",
    "      \n",
    "dconf = DotDict(config.to_dict())"
   ]
  },
  {
   "cell_type": "markdown",
   "metadata": {
    "application/vnd.databricks.v1+cell": {
     "cellMetadata": {},
     "inputWidgets": {},
     "nuid": "3c42289b-c6bb-4027-9fb5-78ac50dfaef1",
     "showTitle": false,
     "tableResultSettingsMap": {},
     "title": ""
    }
   },
   "source": [
    "## XGBOOST\n",
    "We conduct a manual xgboost experiment"
   ]
  },
  {
   "cell_type": "code",
   "execution_count": 0,
   "metadata": {
    "application/vnd.databricks.v1+cell": {
     "cellMetadata": {
      "byteLimit": 2048000,
      "rowLimit": 10000
     },
     "inputWidgets": {},
     "nuid": "a72e5d83-deb3-4881-9d5b-f98782ddedd9",
     "showTitle": false,
     "tableResultSettingsMap": {},
     "title": ""
    }
   },
   "outputs": [],
   "source": [
    "mlflow.set_tracking_uri(\"databricks\")\n",
    "mlflow.set_registry_uri(\"databricks-uc\")\n",
    "\n",
    "exp_name='/Users/scott.mckean@databricks.com/experiments/hydrate_prediction_xgboost'\n",
    "\n",
    "mlflow.set_experiment(exp_name)"
   ]
  },
  {
   "cell_type": "code",
   "execution_count": 0,
   "metadata": {
    "application/vnd.databricks.v1+cell": {
     "cellMetadata": {
      "byteLimit": 2048000,
      "implicitDf": true,
      "rowLimit": 10000
     },
     "inputWidgets": {},
     "nuid": "21c87193-301e-4811-be5b-2f4dc6a80365",
     "showTitle": false,
     "tableResultSettingsMap": {},
     "title": ""
    }
   },
   "outputs": [],
   "source": [
    "%sql\n",
    "SELECT \n",
    "    well_number, \n",
    "    SUM(CASE WHEN QGL > 0 THEN 1 ELSE 0 END) AS positive_qgl_count,\n",
    "    COUNT(*) AS total_row_count\n",
    "FROM shm.3w.well_data \n",
    "GROUP BY well_number\n",
    "ORDER BY well_number"
   ]
  },
  {
   "cell_type": "code",
   "execution_count": 0,
   "metadata": {
    "application/vnd.databricks.v1+cell": {
     "cellMetadata": {
      "byteLimit": 2048000,
      "rowLimit": 10000
     },
     "inputWidgets": {},
     "nuid": "62d6ccc4-c45e-4c9b-813f-39f6594dea7a",
     "showTitle": false,
     "tableResultSettingsMap": {},
     "title": ""
    }
   },
   "outputs": [],
   "source": [
    "well = 15\n",
    "ksamples = 10\n",
    "\n",
    "well_df = (\n",
    "    spark.table(f\"{dconf.catalog}.{dconf.schema}.{dconf.table}\")\n",
    "    .filter(f'well_number = {well}')\n",
    "    .limit(ksamples * 1000)\n",
    "    .toPandas()\n",
    ")"
   ]
  },
  {
   "cell_type": "code",
   "execution_count": 0,
   "metadata": {
    "application/vnd.databricks.v1+cell": {
     "cellMetadata": {
      "byteLimit": 2048000,
      "rowLimit": 10000
     },
     "inputWidgets": {},
     "nuid": "3efa48ca-a406-4d3e-961f-3c2dc671cfeb",
     "showTitle": false,
     "tableResultSettingsMap": {},
     "title": ""
    }
   },
   "outputs": [],
   "source": [
    "from sklearn.model_selection import train_test_split\n",
    "import xgboost as xgb\n",
    "from sklearn.metrics import mean_squared_error\n",
    "from mlflow.entities import Dataset\n",
    "\n",
    "train_cols = ['P-PDG', 'P-TPT', 'T-TPT', 'P-MON-CKP', 'T-JUS-CKP']\n",
    "target_col = 'QGL'\n",
    "\n",
    "with mlflow.start_run() as run:\n",
    "\n",
    "    mlflow.xgboost.autolog(\n",
    "        registered_model_name=f\"{dconf.catalog}.{dconf.schema}.xgboost\",\n",
    "        model_format=\"xgb\"\n",
    "        name=f\"well_{well}\"\n",
    "    )\n",
    "\n",
    "    # Prep Data\n",
    "    mlflow.log_param('train_cols', train_cols)\n",
    "    mlflow.log_param('target_col', target_col)\n",
    "\n",
    "    # MLFLow 3 Data Registry\n",
    "    data: Dataset = mlflow.data.from_pandas(well_df, name=f\"well_{well}_{ksamples}k\")\n",
    "    \n",
    "    X_train, X_test, y_train, y_test = train_test_split(\n",
    "        data.df[train_cols], data.df[target_col], test_size=0.2, random_state=42\n",
    "    )\n",
    "\n",
    "    # Train\n",
    "    model = xgb.XGBRegressor(objective='reg:squarederror')\n",
    "    model.fit(X_train, y_train)\n",
    "\n",
    "    # Evaluate\n",
    "    preds = model.predict(X_test)\n",
    "    rmse = mean_squared_error(y_test, preds, squared=False)\n",
    "    mlflow.log_metric(\"test_rmse\", rmse)"
   ]
  },
  {
   "cell_type": "code",
   "execution_count": 0,
   "metadata": {
    "application/vnd.databricks.v1+cell": {
     "cellMetadata": {
      "byteLimit": 2048000,
      "rowLimit": 10000
     },
     "inputWidgets": {},
     "nuid": "52cb1825-d4fb-4fed-86df-d00201b47f2c",
     "showTitle": false,
     "tableResultSettingsMap": {},
     "title": ""
    }
   },
   "outputs": [],
   "source": [
    "# Create a deployment\n",
    "from mlflow.deployments import get_deploy_client\n",
    "client = get_deploy_client(\"databricks\")\n",
    "client.create_endpoint(\n",
    "    name='hydrate_xgboost_2',\n",
    "    config={\n",
    "        \"served_entities\": [{\n",
    "            \"entity_name\": f\"{dconf.catalog}.{dconf.schema}.xgboost\",\n",
    "            \"entity_version\": 4,\n",
    "            \"workload_size\": \"Small\",\n",
    "            \"scale_to_zero_enabled\": True\n",
    "        }]\n",
    "    }\n",
    ")"
   ]
  },
  {
   "cell_type": "code",
   "execution_count": 0,
   "metadata": {
    "application/vnd.databricks.v1+cell": {
     "cellMetadata": {
      "byteLimit": 2048000,
      "rowLimit": 10000
     },
     "inputWidgets": {},
     "nuid": "0cd5fc70-ea28-4a67-b9c7-94605cffce37",
     "showTitle": false,
     "tableResultSettingsMap": {},
     "title": ""
    }
   },
   "outputs": [],
   "source": [
    "model = mlflow.xgboost.load_model('models:/shm.3w.xgboost/4')\n"
   ]
  }
 ],
 "metadata": {
  "application/vnd.databricks.v1+notebook": {
   "computePreferences": {
    "hardware": {
     "accelerator": null,
     "gpuPoolId": null,
     "memory": null
    }
   },
   "dashboards": [],
   "environmentMetadata": {
    "base_environment": "",
    "environment_version": "3"
   },
   "inputWidgetPreferences": null,
   "language": "python",
   "notebookMetadata": {
    "mostRecentlyExecutedCommandWithImplicitDF": {
     "commandId": 1426291317557126,
     "dataframes": [
      "_sqldf"
     ]
    },
    "pythonIndentUnit": 2
   },
   "notebookName": "xgboost",
   "widgets": {}
  },
  "language_info": {
   "name": "python"
  }
 },
 "nbformat": 4,
 "nbformat_minor": 0
}
