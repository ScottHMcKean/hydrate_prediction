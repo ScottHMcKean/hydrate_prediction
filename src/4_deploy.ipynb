{
 "cells": [
  {
   "cell_type": "markdown",
   "id": "9af00a9b",
   "metadata": {},
   "source": [
    "# Deploy\n",
    "\n",
    "This notebook takes our trained models, deploys them as serving endpoints, and sets functions for a proper query."
   ]
  },
  {
   "cell_type": "markdown",
   "id": "59359e7d",
   "metadata": {},
   "source": [
    "## ML Model Deployment\n",
    "We use MLflow's deploy client to simplify endpoint deployments"
   ]
  },
  {
   "cell_type": "code",
   "execution_count": null,
   "id": "a1780c56",
   "metadata": {},
   "outputs": [],
   "source": [
    "from mlflow.deployments import get_deploy_client\n",
    "\n",
    "client = get_deploy_client(\"databricks\")\n",
    "endpoint = client.create_endpoint(\n",
    "    name=\"shm_3w_xgboost\",\n",
    "    config={\n",
    "        \"served_entities\": [\n",
    "            {\n",
    "                \"name\": \"xgboost\", \n",
    "                \"entity_name\": \"shm.3w.well_1\",\n",
    "                \"entity_version\": \"2\",\n",
    "                \"workload_size\": \"Small\",\n",
    "                \"scale_to_zero_enabled\": True\n",
    "            }\n",
    "        ],\n",
    "        \"traffic_config\": {\n",
    "            \"routes\": [\n",
    "                {\n",
    "                    \"served_model_name\": \"xgboost\",\n",
    "                    \"traffic_percentage\": 100\n",
    "                }\n",
    "            ]\n",
    "        }\n",
    "    }\n",
    ")"
   ]
  },
  {
   "cell_type": "markdown",
   "id": "f2ffa2be",
   "metadata": {},
   "source": [
    "We can test our deployed model now"
   ]
  },
  {
   "cell_type": "code",
   "execution_count": null,
   "id": "e480df5e",
   "metadata": {},
   "outputs": [],
   "source": []
  },
  {
   "cell_type": "markdown",
   "id": "c9a2337c",
   "metadata": {},
   "source": [
    "# Prediction Tool\n",
    "\n",
    "Let's declare a parameterized function that queries the model for a specific well and time range."
   ]
  },
  {
   "cell_type": "code",
   "execution_count": null,
   "id": "4ee8165c",
   "metadata": {},
   "outputs": [],
   "source": [
    "spark.sql(\"\"\"\n",
    "    CREATE OR REPLACE FUNCTION shm.3w.get_hydrate_predictions(\n",
    "        p_well_number INT DEFAULT 16 COMMENT \"Well number between 1 and 50, must be integer\", \n",
    "        p_num_minutes INT DEFAULT 1 COMMENT \"Number of minutes to predict, must be under 30\"\n",
    "    )\n",
    "    RETURNS TABLE (\n",
    "        timestamp TIMESTAMP,\n",
    "        prediction DOUBLE \n",
    "    )\n",
    "    COMMENT \"Generates hydrate predictions for the next couple of minutes\"\n",
    "    RETURN\n",
    "    SELECT \n",
    "        f.timestamp,\n",
    "        AI_QUERY(\n",
    "            'hydrate_xgboost',\n",
    "            request => NAMED_STRUCT(\n",
    "            'T-JUS-CKP', f.`T-JUS-CKP`,\n",
    "            'T-TPT', f.`T-TPT`,\n",
    "            'P-TPT', f.`P-TPT`,\n",
    "            'P-MON-CKP', f.`P-MON-CKP`,\n",
    "            'P-PDG', f.`P-PDG`\n",
    "            )\n",
    "        ) AS prediction\n",
    "    FROM shm.3w.filter_well_data(p_well_number, p_num_minutes)\n",
    "\"\"\"\n",
    ")"
   ]
  }
 ],
 "metadata": {
  "kernelspec": {
   "display_name": ".venv",
   "language": "python",
   "name": "python3"
  },
  "language_info": {
   "codemirror_mode": {
    "name": "ipython",
    "version": 3
   },
   "file_extension": ".py",
   "mimetype": "text/x-python",
   "name": "python",
   "nbconvert_exporter": "python",
   "pygments_lexer": "ipython3",
   "version": "3.12.3"
  }
 },
 "nbformat": 4,
 "nbformat_minor": 5
}
