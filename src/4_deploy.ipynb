{
 "cells": [
  {
   "cell_type": "markdown",
   "metadata": {
    "application/vnd.databricks.v1+cell": {
     "cellMetadata": {},
     "inputWidgets": {},
     "nuid": "9c33a82b-557e-4cfb-8704-e0360b5380b7",
     "showTitle": false,
     "tableResultSettingsMap": {},
     "title": ""
    }
   },
   "source": [
    "# Deploy\n",
    "\n",
    "This notebook takes our trained models, deploys them as serving endpoints, and sets functions for a proper query."
   ]
  },
  {
   "cell_type": "markdown",
   "metadata": {
    "application/vnd.databricks.v1+cell": {
     "cellMetadata": {},
     "inputWidgets": {},
     "nuid": "4df4c395-57dc-45af-b6c0-01958e572e3a",
     "showTitle": false,
     "tableResultSettingsMap": {},
     "title": ""
    }
   },
   "source": [
    "## ML Model Deployment\n",
    "We use MLflow's deploy client to simplify endpoint deployments"
   ]
  },
  {
   "cell_type": "code",
   "execution_count": 0,
   "metadata": {
    "application/vnd.databricks.v1+cell": {
     "cellMetadata": {
      "byteLimit": 2048000,
      "rowLimit": 10000
     },
     "inputWidgets": {},
     "nuid": "a006c31b-702a-4b86-b5ac-81dcc8577695",
     "showTitle": false,
     "tableResultSettingsMap": {},
     "title": ""
    }
   },
   "outputs": [],
   "source": [
    "from mlflow.deployments import get_deploy_client\n",
    "\n",
    "client = get_deploy_client(\"databricks\")\n",
    "endpoint = client.create_endpoint(\n",
    "    name=\"shm_3w_lightgbm\",\n",
    "    config={\n",
    "        \"served_entities\": [\n",
    "            {\n",
    "                \"name\": \"lightgbm\", \n",
    "                \"entity_name\": \"shm.3w.lightgbm\",\n",
    "                \"entity_version\": \"2\",\n",
    "                \"workload_size\": \"Small\",\n",
    "                \"scale_to_zero_enabled\": True\n",
    "            }\n",
    "        ],\n",
    "        \"traffic_config\": {\n",
    "            \"routes\": [\n",
    "                {\n",
    "                    \"served_model_name\": \"lightgbm\",\n",
    "                    \"traffic_percentage\": 100\n",
    "                }\n",
    "            ]\n",
    "        }\n",
    "    }\n",
    ")"
   ]
  },
  {
   "cell_type": "markdown",
   "metadata": {
    "application/vnd.databricks.v1+cell": {
     "cellMetadata": {},
     "inputWidgets": {},
     "nuid": "15de58b3-b7df-487f-8afd-62b8c3d37977",
     "showTitle": false,
     "tableResultSettingsMap": {},
     "title": ""
    }
   },
   "source": [
    "# Prediction Tool\n",
    "\n",
    "Let's declare a parameterized function that queries the model for a specific well and time range. We have also defined other tools using SQL to get information about our well."
   ]
  },
  {
   "cell_type": "code",
   "execution_count": 0,
   "metadata": {
    "application/vnd.databricks.v1+cell": {
     "cellMetadata": {},
     "inputWidgets": {},
     "nuid": "266825a7-7217-4813-a013-4b8d48aed313",
     "showTitle": false,
     "tableResultSettingsMap": {},
     "title": ""
    }
   },
   "outputs": [],
   "source": [
    "spark.sql(\"\"\"\n",
    "    CREATE OR REPLACE FUNCTION shm.3w.predict_state(\n",
    "        p_well_number INT DEFAULT 16 COMMENT \"Well number between 1 and 50, must be integer\", \n",
    "        p_num_minutes INT DEFAULT 1 COMMENT \"Number of minutes to predict, must be under 30\"\n",
    "    )\n",
    "    RETURNS TABLE (\n",
    "        timestamp TIMESTAMP,\n",
    "        prediction DOUBLE \n",
    "    )\n",
    "    COMMENT \"Generates hydrate predictions for the next couple of minutes\"\n",
    "    RETURN\n",
    "    SELECT \n",
    "        f.timestamp,\n",
    "        AI_QUERY(\n",
    "            'hydrate_xgboost',\n",
    "            request => NAMED_STRUCT(\n",
    "            'T-JUS-CKP', f.`T-JUS-CKP`,\n",
    "            'T-TPT', f.`T-TPT`,\n",
    "            'P-TPT', f.`P-TPT`,\n",
    "            'P-MON-CKP', f.`P-MON-CKP`,\n",
    "            'P-PDG', f.`P-PDG`\n",
    "            )\n",
    "        ) AS prediction\n",
    "    FROM shm.3w.filter_well_data(p_well_number, p_num_minutes)\n",
    "\"\"\"\n",
    ")"
   ]
  }
 ],
 "metadata": {
  "application/vnd.databricks.v1+notebook": {
   "computePreferences": {
    "hardware": {
     "accelerator": null,
     "gpuPoolId": null,
     "memory": null
    }
   },
   "dashboards": [],
   "environmentMetadata": {
    "base_environment": "",
    "environment_version": "3"
   },
   "inputWidgetPreferences": null,
   "language": "python",
   "notebookMetadata": {
    "pythonIndentUnit": 2
   },
   "notebookName": "4_deploy",
   "widgets": {}
  },
  "kernelspec": {
   "display_name": ".venv",
   "language": "python",
   "name": "python3"
  },
  "language_info": {
   "name": "python"
  }
 },
 "nbformat": 4,
 "nbformat_minor": 0
}
