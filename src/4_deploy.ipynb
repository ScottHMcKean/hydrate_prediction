{
 "cells": [
  {
   "cell_type": "markdown",
   "id": "9af00a9b",
   "metadata": {},
   "source": [
    "Here we can declare a parameterized function that queries the model for a specific well and time range"
   ]
  },
  {
   "cell_type": "code",
   "execution_count": null,
   "id": "4ee8165c",
   "metadata": {},
   "outputs": [],
   "source": [
    "spark.sql(\"\"\"\n",
    "    CREATE OR REPLACE FUNCTION shm.3w.get_hydrate_predictions(\n",
    "        p_well_number INT DEFAULT 16 COMMENT \"Well number between 1 and 50, must be integer\", \n",
    "        p_num_minutes INT DEFAULT 1 COMMENT \"Number of minutes to predict, must be under 30\"\n",
    "    )\n",
    "    RETURNS TABLE (\n",
    "        timestamp TIMESTAMP,\n",
    "        prediction DOUBLE \n",
    "    )\n",
    "    COMMENT \"Generates hydrate predictions for the next couple of minutes\"\n",
    "    RETURN\n",
    "    SELECT \n",
    "        f.timestamp,\n",
    "        AI_QUERY(\n",
    "            'hydrate_xgboost',\n",
    "            request => NAMED_STRUCT(\n",
    "            'T-JUS-CKP', f.`T-JUS-CKP`,\n",
    "            'T-TPT', f.`T-TPT`,\n",
    "            'P-TPT', f.`P-TPT`,\n",
    "            'P-MON-CKP', f.`P-MON-CKP`,\n",
    "            'P-PDG', f.`P-PDG`\n",
    "            )\n",
    "        ) AS prediction\n",
    "    FROM shm.3w.filter_well_data(p_well_number, p_num_minutes)\n",
    "\"\"\"\n",
    ")"
   ]
  }
 ],
 "metadata": {
  "language_info": {
   "name": "python"
  }
 },
 "nbformat": 4,
 "nbformat_minor": 5
}
