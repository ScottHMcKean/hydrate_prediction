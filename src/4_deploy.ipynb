{
 "cells": [
  {
   "cell_type": "markdown",
   "metadata": {
    "application/vnd.databricks.v1+cell": {
     "cellMetadata": {},
     "inputWidgets": {},
     "nuid": "9c33a82b-557e-4cfb-8704-e0360b5380b7",
     "showTitle": false,
     "tableResultSettingsMap": {},
     "title": ""
    }
   },
   "source": [
    "# Deploy\n",
    "\n",
    "This notebook takes our trained models, deploys them as serving endpoints, and sets functions for a proper query."
   ]
  },
  {
   "cell_type": "markdown",
   "metadata": {
    "application/vnd.databricks.v1+cell": {
     "cellMetadata": {},
     "inputWidgets": {},
     "nuid": "4df4c395-57dc-45af-b6c0-01958e572e3a",
     "showTitle": false,
     "tableResultSettingsMap": {},
     "title": ""
    }
   },
   "source": [
    "## ML Model Deployment\n",
    "We use MLflow's deploy client to simplify endpoint deployments"
   ]
  },
  {
   "cell_type": "code",
   "execution_count": 0,
   "metadata": {
    "application/vnd.databricks.v1+cell": {
     "cellMetadata": {
      "byteLimit": 2048000,
      "rowLimit": 10000
     },
     "inputWidgets": {},
     "nuid": "a006c31b-702a-4b86-b5ac-81dcc8577695",
     "showTitle": false,
     "tableResultSettingsMap": {},
     "title": ""
    }
   },
   "outputs": [],
   "source": [
    "from mlflow.deployments import get_deploy_client\n",
    "\n",
    "client = get_deploy_client(\"databricks\")\n",
    "endpoint = client.create_endpoint(\n",
    "    name=\"shm_3w_lightgbm\",\n",
    "    config={\n",
    "        \"served_entities\": [\n",
    "            {\n",
    "                \"name\": \"lightgbm\", \n",
    "                \"entity_name\": \"shm.3w.lightgbm\",\n",
    "                \"entity_version\": \"2\",\n",
    "                \"workload_size\": \"Small\",\n",
    "                \"scale_to_zero_enabled\": True\n",
    "            }\n",
    "        ],\n",
    "        \"traffic_config\": {\n",
    "            \"routes\": [\n",
    "                {\n",
    "                    \"served_model_name\": \"lightgbm\",\n",
    "                    \"traffic_percentage\": 100\n",
    "                }\n",
    "            ]\n",
    "        }\n",
    "    }\n",
    ")"
   ]
  },
  {
   "cell_type": "markdown",
   "metadata": {
    "application/vnd.databricks.v1+cell": {
     "cellMetadata": {},
     "inputWidgets": {},
     "nuid": "15de58b3-b7df-487f-8afd-62b8c3d37977",
     "showTitle": false,
     "tableResultSettingsMap": {},
     "title": ""
    }
   },
   "source": [
    "# Tools\n",
    "\n",
    "We could use something like Genie to talk with out data, but when the structures are simple, it makes sense to use a more lightweight approach. This is a simple example of using a SQL query as a tool.\n",
    "\n",
    "Let's declare a parameterized function that queries the model for a specific well and time range. We have also defined other tools using SQL to get information about our well.\n",
    "\n",
    "We have defined a lot more tools as SQL queries in ../fixtures"
   ]
  },
  {
   "cell_type": "code",
   "execution_count": 0,
   "metadata": {
    "application/vnd.databricks.v1+cell": {
     "cellMetadata": {
      "byteLimit": 2048000,
      "implicitDf": true,
      "rowLimit": 10000
     },
     "inputWidgets": {},
     "nuid": "5e9ddb78-9e66-4174-8ae3-8118b42759f3",
     "showTitle": false,
     "tableResultSettingsMap": {},
     "title": ""
    }
   },
   "outputs": [],
   "source": [
    "%sql\n",
    "CREATE OR REPLACE FUNCTION shm.3w.latest_n_obs(\n",
    "  well_number_param BIGINT DEFAULT -1 COMMENT \"Well number between 1 and 50, must be an integer\",\n",
    "  n_obs_param INT DEFAULT 5 COMMENT \"Number of observations to return\")\n",
    "RETURNS TABLE (\n",
    "  well_number DOUBLE, \n",
    "  timestamp TIMESTAMP,\n",
    "  `T-JUS-CKP` DOUBLE,\n",
    "  `T-TPT` DOUBLE,\n",
    "  `P-TPT` DOUBLE,\n",
    "  `P-MON-CKP` DOUBLE,\n",
    "  `P-PDG` DOUBLE,\n",
    "  `QGL` DOUBLE\n",
    "  )\n",
    "COMMENT \"Gives the latest n observations for the well. If well_number_param is -1, returns the most recent n observations for all wells.\"\n",
    "RETURN\n",
    "SELECT well_number, timestamp, `T-JUS-CKP`, `T-TPT`, `P-TPT`, `P-MON-CKP`, `P-PDG`, `QGL`\n",
    "FROM (\n",
    "  SELECT \n",
    "    well_number,\n",
    "    timestamp,\n",
    "    `T-JUS-CKP`,\n",
    "    `T-TPT`,\n",
    "    `P-TPT`,\n",
    "    `P-MON-CKP`,\n",
    "    `P-PDG`,\n",
    "    `QGL`,\n",
    "    ROW_NUMBER() OVER (PARTITION BY well_number ORDER BY timestamp DESC) as row_num\n",
    "  FROM shm.3w.well_data\n",
    "  WHERE (well_number_param = -1 OR well_number = well_number_param)\n",
    "  ORDER BY timestamp DESC\n",
    "  LIMIT 1000 -- Use a large constant limit\n",
    ") subquery\n",
    "WHERE row_num <= n_obs_param"
   ]
  },
  {
   "cell_type": "code",
   "execution_count": 0,
   "metadata": {
    "application/vnd.databricks.v1+cell": {
     "cellMetadata": {
      "byteLimit": 2048000,
      "implicitDf": true,
      "rowLimit": 10000
     },
     "inputWidgets": {},
     "nuid": "e7a1c3d3-ae4e-4b55-b655-d4b084ab1188",
     "showTitle": false,
     "tableResultSettingsMap": {},
     "title": ""
    }
   },
   "outputs": [],
   "source": [
    "%sql\n",
    "CREATE OR REPLACE FUNCTION shm.3w.predict_state(\n",
    "    well_number_param INT DEFAULT -1 COMMENT \"Well number between 1 and 50, must be integer. Select -1 to get all wells\", \n",
    "    n_obs_param INT DEFAULT 10 COMMENT \"Number of observations to predict\"\n",
    ")\n",
    "RETURNS TABLE (\n",
    "    well_number INTEGER,\n",
    "    timestamp TIMESTAMP,\n",
    "    prediction INTEGER \n",
    ")\n",
    "COMMENT \"Generates hydrate predictions for the latest sensor readings\"\n",
    "RETURN\n",
    "SELECT \n",
    "    well_number,\n",
    "    timestamp,\n",
    "    AI_QUERY(\n",
    "        'shm_3w_lightgbm',\n",
    "        request => NAMED_STRUCT(\n",
    "        'P-PDG', `latest_n_obs`.`P-PDG`,\n",
    "        'P-TPT', `latest_n_obs`.`P-TPT`,\n",
    "        'T-TPT', `latest_n_obs`.`T-TPT`,\n",
    "        'P-MON-CKP', `latest_n_obs`.`P-MON-CKP`,\n",
    "        'T-JUS-CKP', `latest_n_obs`.`T-JUS-CKP`,\n",
    "        'QGL', `latest_n_obs`.`QGL`,\n",
    "        'well_number', `latest_n_obs`.`well_number`\n",
    "        ),\n",
    "        returnType => 'DOUBLE'\n",
    "    ) AS prediction\n",
    "FROM shm.3w.latest_n_obs(well_number_param, n_obs_param)"
   ]
  }
 ],
 "metadata": {
  "application/vnd.databricks.v1+notebook": {
   "computePreferences": {
    "hardware": {
     "accelerator": null,
     "gpuPoolId": null,
     "memory": null
    }
   },
   "dashboards": [],
   "environmentMetadata": {
    "base_environment": "",
    "environment_version": "3"
   },
   "inputWidgetPreferences": null,
   "language": "python",
   "notebookMetadata": {
    "mostRecentlyExecutedCommandWithImplicitDF": {
     "commandId": 8154626112670676,
     "dataframes": [
      "_sqldf"
     ]
    },
    "pythonIndentUnit": 2
   },
   "notebookName": "4_deploy",
   "widgets": {}
  },
  "kernelspec": {
   "display_name": ".venv",
   "language": "python",
   "name": "python3"
  },
  "language_info": {
   "name": "python"
  }
 },
 "nbformat": 4,
 "nbformat_minor": 0
}
