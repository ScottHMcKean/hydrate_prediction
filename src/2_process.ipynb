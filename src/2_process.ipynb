{
 "cells": [
  {
   "cell_type": "markdown",
   "id": "f10a4c41",
   "metadata": {},
   "source": [
    "## Compile & Clean Data"
   ]
  },
  {
   "cell_type": "code",
   "execution_count": null,
   "id": "4ee8165c",
   "metadata": {},
   "outputs": [],
   "source": [
    "import pandas as pd\n",
    "# pd.read_parquet(\"/Users/scott.mckean/Desktop/3W/0/WELL-00001_20170201010207.parquet\")\n",
    "pd.read_parquet(\"3w_dataset_test/0/WELL-00001_20170201010207.parquet\").reset_index(drop=False)"
   ]
  },
  {
   "cell_type": "code",
   "execution_count": 1,
   "id": "b48b50e0",
   "metadata": {},
   "outputs": [],
   "source": [
    "from hydrate.process import read_nested_parquet_files"
   ]
  },
  {
   "cell_type": "code",
   "execution_count": null,
   "id": "293afede",
   "metadata": {},
   "outputs": [],
   "source": []
  },
  {
   "cell_type": "code",
   "execution_count": null,
   "id": "b52caa6f",
   "metadata": {},
   "outputs": [],
   "source": [
    "is_drawn = all_data.source_file.str.contains('DRAWN')\n",
    "is_simulated = all_data.source_file.str.contains('SIMULATED')\n",
    "real_data = all_data[~is_drawn & ~is_simulated]"
   ]
  },
  {
   "cell_type": "code",
   "execution_count": null,
   "id": "40223b30",
   "metadata": {},
   "outputs": [],
   "source": [
    "real_no_class = real_data['class'].isna()\n",
    "real_no_timestamp = real_data['timestamp'].isna()\n",
    "clean_data = real_data[~real_no_class & ~real_no_timestamp].copy()"
   ]
  },
  {
   "cell_type": "code",
   "execution_count": null,
   "id": "0c813c47",
   "metadata": {},
   "outputs": [],
   "source": [
    "clean_data['well_number'] = clean_data['source_file'].str.extract(r'WELL-(\\d+)').astype(int)"
   ]
  },
  {
   "cell_type": "code",
   "execution_count": null,
   "id": "cf23b369",
   "metadata": {},
   "outputs": [],
   "source": [
    "clean_data['source_file'] = clean_data['source_file'].str.replace('/Users/scott.mckean/Desktop', '')"
   ]
  },
  {
   "cell_type": "markdown",
   "id": "0c963c56",
   "metadata": {},
   "source": [
    "## Exploratory Data Analysis on Compiled Data"
   ]
  },
  {
   "cell_type": "code",
   "execution_count": null,
   "id": "87bb22a2",
   "metadata": {},
   "outputs": [],
   "source": [
    "import pandas as pd\n",
    "import numpy as np\n",
    "df = pd.read_parquet('/Users/scott.mckean/Desktop/3w_compiled_data.parquet')\n",
    "df.sample(10)"
   ]
  },
  {
   "cell_type": "code",
   "execution_count": null,
   "id": "26d9e177",
   "metadata": {},
   "outputs": [],
   "source": []
  },
  {
   "cell_type": "code",
   "execution_count": null,
   "id": "206653fd",
   "metadata": {},
   "outputs": [],
   "source": [
    "events_names = {\n",
    "    0: 'Normal',\n",
    "    1: 'Abrupt Increase of BSW',\n",
    "    2: 'Spurious Closure of DHSV',\n",
    "    3: 'Severe Slugging',\n",
    "    4: 'Flow Instability',\n",
    "    5: 'Rapid Productivity Loss',\n",
    "    6: 'Quick Restriction in PCK',\n",
    "    7: 'Scaling in PCK',\n",
    "    8: 'Hydrate in Production Line'\n",
    "    }\n",
    "\n",
    "tag_info = {\n",
    "    1: {\"tag\": \"P-PDG\", \"name\": \"Pressure at the PDG\", \"unit\": \"Pa\"},\n",
    "    2: {\"tag\": \"P-TPT\", \"name\": \"Pressure at the TPT\", \"unit\": \"Pa\"},\n",
    "    3: {\"tag\": \"T-TPT\", \"name\": \"Temperature at the TPT\", \"unit\": \"degC\"},\n",
    "    4: {\"tag\": \"P-MON-CKP\", \"name\": \"Pressure upstream of the PCK\", \"unit\": \"Pa\"},\n",
    "    5: {\"tag\": \"T-JUS-CKP\", \"name\": \"Temperature downstream of the PCK\", \"unit\": \"degC\"},\n",
    "    6: {\"tag\": \"P-JUS-CKGL\", \"name\": \"Pressure downstream of the GLCK\", \"unit\": \"Pa\"},\n",
    "    7: {\"tag\": \"T-JUS-CKGL\", \"name\": \"Temperature downstream of the GLCK\", \"unit\": \"degC\"},\n",
    "    8: {\"tag\": \"QGL\", \"name\": \"Gas lift flow rate\", \"unit\": \"sm^3/s\"}\n",
    "}"
   ]
  }
 ],
 "metadata": {
  "kernelspec": {
   "display_name": ".venv",
   "language": "python",
   "name": "python3"
  },
  "language_info": {
   "codemirror_mode": {
    "name": "ipython",
    "version": 3
   },
   "file_extension": ".py",
   "mimetype": "text/x-python",
   "name": "python",
   "nbconvert_exporter": "python",
   "pygments_lexer": "ipython3",
   "version": "3.12.3"
  }
 },
 "nbformat": 4,
 "nbformat_minor": 5
}
