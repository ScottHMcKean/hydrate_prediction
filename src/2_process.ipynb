{
 "cells": [
  {
   "cell_type": "markdown",
   "id": "f10a4c41",
   "metadata": {},
   "source": [
    "## Process Data\n",
    "\n",
    "This notebook takes all the raw files from the bronze volume and processes them into a single table. It could be optimized to use less ram, but does the trick."
   ]
  },
  {
   "cell_type": "code",
   "execution_count": 11,
   "id": "ff4204a3",
   "metadata": {},
   "outputs": [],
   "source": [
    "from hydrate.utils import get_config_path, DotConfig\n",
    "config_path = get_config_path()\n",
    "config = DotConfig(config_path)"
   ]
  },
  {
   "cell_type": "markdown",
   "id": "777f1610",
   "metadata": {},
   "source": [
    "## Bronze to Silver Cleaning\n",
    "There are a couple problems with how the files were saved for use with spark. We need to loop through every parquet and fix the timestamp before reading with spark."
   ]
  },
  {
   "cell_type": "code",
   "execution_count": null,
   "id": "e4dcc7b8",
   "metadata": {},
   "outputs": [],
   "source": [
    "from pathlib import Path\n",
    "import pandas as pd\n",
    "cols_to_keep = ['P-PDG', 'P-MON-CKP', 'P-MON-CKGL', 'P-JUS-CKGL', 'P-JUS-CKP', 'P-TPT', 'T-TPT', 'QGL', 'T-JUS-CKP', 'state', 'timestamp']\n",
    "\n",
    "for path in Path(config.download.output_dir).rglob('*.parquet'):\n",
    "  print(path)\n",
    "  df_in = pd.read_parquet(path)\n",
    "  df_out = df_in.reset_index()[cols_to_keep].dropna(subset=['state'])\n",
    "  # save cleaner parquets to silver with proper timestamp\n",
    "  out_path = str(path).replace('bronze','silv')\n",
    "  Path(out_path).parent.mkdir(exist_ok=True)\n",
    "  df_out.to_parquet(\n",
    "    Path(out_path),\n",
    "    coerce_timestamps=\"ms\", \n",
    "    allow_truncated_timestamps=True,\n",
    "    index=False\n",
    "    )"
   ]
  },
  {
   "cell_type": "markdown",
   "id": "97985b14",
   "metadata": {},
   "source": [
    "## Table Generation\n",
    "\n",
    "Now that we have proper files, we can use spark to make an enormous table."
   ]
  },
  {
   "cell_type": "code",
   "execution_count": null,
   "id": "da23fd40",
   "metadata": {},
   "outputs": [],
   "source": [
    "from pyspark.sql.types import (\n",
    "    StructType, StructField, DoubleType, IntegerType, TimestampType, LongType, StringType\n",
    ")\n",
    "\n",
    "SCHEMA_3W = StructType([\n",
    "    StructField(\"timestamp\", TimestampType(), True),\n",
    "    StructField(\"P-PDG\", DoubleType(), True),\n",
    "    StructField(\"P-MON-CKP\", DoubleType(), True),\n",
    "    StructField(\"P-MON-CKGL\", DoubleType(), True),\n",
    "    StructField(\"P-JUS-CKGL\", DoubleType(), True),\n",
    "    StructField(\"P-JUS-CKP\", DoubleType(), True),\n",
    "    StructField(\"P-TPT\", DoubleType(), True),\n",
    "    StructField(\"T-TPT\", DoubleType(), True),\n",
    "    StructField(\"QGL\", DoubleType(), True),\n",
    "    StructField(\"T-JUS-CKP\", DoubleType(), True),\n",
    "    StructField(\"state\", IntegerType(), True),\n",
    "])"
   ]
  },
  {
   "cell_type": "code",
   "execution_count": null,
   "id": "b48b50e0",
   "metadata": {},
   "outputs": [],
   "source": [
    "from hydrate.process import read_nested_parquet_files, add_state_name, clean_data\n",
    "df = read_nested_parquet_files(config.process.silver_dir)\n",
    "df = df.pipe(clean_data).pipe(add_state_name).reset_index(drop=True)"
   ]
  },
  {
   "cell_type": "code",
   "execution_count": 15,
   "id": "036a5d8f",
   "metadata": {},
   "outputs": [],
   "source": [
    "from databricks.connect import DatabricksSession as SparkSession\n",
    "spark = SparkSession.builder.serverless(True).getOrCreate()"
   ]
  },
  {
   "cell_type": "code",
   "execution_count": null,
   "id": "563ed0ea",
   "metadata": {},
   "outputs": [],
   "source": [
    "(\n",
    "    spark.createDataFrame(df)\n",
    "    .write\n",
    "    .mode(\"overwrite\")\n",
    "    .option(\"mergeSchema\", \"true\")\n",
    "    .saveAsTable(f\"{config.catalog}.{config.schema}.{config.process.table}\")\n",
    ")"
   ]
  }
 ],
 "metadata": {
  "kernelspec": {
   "display_name": ".venv",
   "language": "python",
   "name": "python3"
  },
  "language_info": {
   "codemirror_mode": {
    "name": "ipython",
    "version": 3
   },
   "file_extension": ".py",
   "mimetype": "text/x-python",
   "name": "python",
   "nbconvert_exporter": "python",
   "pygments_lexer": "ipython3",
   "version": "3.12.3"
  }
 },
 "nbformat": 4,
 "nbformat_minor": 5
}
