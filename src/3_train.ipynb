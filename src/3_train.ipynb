{
 "cells": [
  {
   "cell_type": "markdown",
   "id": "ddf2ea9d",
   "metadata": {},
   "source": [
    "# Train\n",
    "\n",
    "This notebook trains a lightgbm model on the 3W dataset."
   ]
  },
  {
   "cell_type": "code",
   "execution_count": null,
   "id": "c2968a5a",
   "metadata": {},
   "outputs": [],
   "source": []
  },
  {
   "cell_type": "code",
   "execution_count": 1,
   "id": "be06d027",
   "metadata": {},
   "outputs": [
    {
     "name": "stderr",
     "output_type": "stream",
     "text": [
      "/Users/scott.mckean/Repos/hydrate_prediction/.venv/lib/python3.12/site-packages/tsfresh/__init__.py:12: UserWarning: pkg_resources is deprecated as an API. See https://setuptools.pypa.io/en/latest/pkg_resources.html. The pkg_resources package is slated for removal as early as 2025-11-30. Refrain from using this package or pin to Setuptools<81.\n",
      "  import pkg_resources\n"
     ]
    },
    {
     "ename": "ModuleNotFoundError",
     "evalue": "No module named 'lightgbm'",
     "output_type": "error",
     "traceback": [
      "\u001b[31m---------------------------------------------------------------------------\u001b[39m",
      "\u001b[31mModuleNotFoundError\u001b[39m                       Traceback (most recent call last)",
      "\u001b[36mCell\u001b[39m\u001b[36m \u001b[39m\u001b[32mIn[1]\u001b[39m\u001b[32m, line 2\u001b[39m\n\u001b[32m      1\u001b[39m \u001b[38;5;28;01mimport\u001b[39;00m\u001b[38;5;250m \u001b[39m\u001b[34;01mtsfresh\u001b[39;00m\n\u001b[32m----> \u001b[39m\u001b[32m2\u001b[39m \u001b[38;5;28;01mimport\u001b[39;00m\u001b[38;5;250m \u001b[39m\u001b[34;01mlightgbm\u001b[39;00m\u001b[38;5;250m \u001b[39m\u001b[38;5;28;01mas\u001b[39;00m\u001b[38;5;250m \u001b[39m\u001b[34;01mlgb\u001b[39;00m\n",
      "\u001b[31mModuleNotFoundError\u001b[39m: No module named 'lightgbm'"
     ]
    }
   ],
   "source": [
    "import tsfresh\n",
    "import lightgbm as lgb"
   ]
  },
  {
   "cell_type": "code",
   "execution_count": 1,
   "id": "8c730937",
   "metadata": {},
   "outputs": [
    {
     "ename": "NameError",
     "evalue": "name 'spark' is not defined",
     "output_type": "error",
     "traceback": [
      "\u001b[31m---------------------------------------------------------------------------\u001b[39m",
      "\u001b[31mNameError\u001b[39m                                 Traceback (most recent call last)",
      "\u001b[36mCell\u001b[39m\u001b[36m \u001b[39m\u001b[32mIn[1]\u001b[39m\u001b[32m, line 1\u001b[39m\n\u001b[32m----> \u001b[39m\u001b[32m1\u001b[39m df = \u001b[43mspark\u001b[49m.table(\u001b[33m\"\u001b[39m\u001b[33mshm.3w.well_data\u001b[39m\u001b[33m\"\u001b[39m).toPandas()\n",
      "\u001b[31mNameError\u001b[39m: name 'spark' is not defined"
     ]
    }
   ],
   "source": [
    "df = spark.table(\"shm.3w.well_data\").toPandas()"
   ]
  },
  {
   "cell_type": "code",
   "execution_count": null,
   "id": "053e94a9",
   "metadata": {},
   "outputs": [],
   "source": [
    "tag_info = {\n",
    "    1: {\"tag\": \"P-PDG\", \"name\": \"Pressure at the PDG\", \"unit\": \"Pa\"},\n",
    "    2: {\"tag\": \"P-TPT\", \"name\": \"Pressure at the TPT\", \"unit\": \"Pa\"},\n",
    "    3: {\"tag\": \"T-TPT\", \"name\": \"Temperature at the TPT\", \"unit\": \"degC\"},\n",
    "    4: {\"tag\": \"P-MON-CKP\", \"name\": \"Pressure upstream of the PCK\", \"unit\": \"Pa\"},\n",
    "    5: {\"tag\": \"T-JUS-CKP\", \"name\": \"Temperature downstream of the PCK\", \"unit\": \"degC\"},\n",
    "    6: {\"tag\": \"P-JUS-CKGL\", \"name\": \"Pressure downstream of the GLCK\", \"unit\": \"Pa\"},\n",
    "    7: {\"tag\": \"QGL\", \"name\": \"Gas lift flow rate\", \"unit\": \"sm^3/s\"}\n",
    "}"
   ]
  },
  {
   "cell_type": "code",
   "execution_count": null,
   "id": "dbf5ab04",
   "metadata": {},
   "outputs": [],
   "source": [
    "df = df[tags + ['state']].dropna()\n",
    "X_df = df[tags]\n",
    "y_df = df['state']"
   ]
  },
  {
   "cell_type": "code",
   "execution_count": null,
   "id": "548eaff7",
   "metadata": {},
   "outputs": [],
   "source": [
    "indices = ['timestamp', 'well_number']\n",
    "tags = [x['tag'] for x in tag_info.values()]\n",
    "target = ['state']\n",
    "\n",
    "x_df = (\n",
    "    df[vars + indices + target]\n",
    "    .sort_values(['well_number','timestamp'])\n",
    "    .ffill().dropna()\n",
    "    .copy()\n",
    ")"
   ]
  },
  {
   "cell_type": "code",
   "execution_count": null,
   "id": "4ee8165c",
   "metadata": {},
   "outputs": [],
   "source": [
    "from hydrate."
   ]
  }
 ],
 "metadata": {
  "kernelspec": {
   "display_name": ".venv",
   "language": "python",
   "name": "python3"
  },
  "language_info": {
   "codemirror_mode": {
    "name": "ipython",
    "version": 3
   },
   "file_extension": ".py",
   "mimetype": "text/x-python",
   "name": "python",
   "nbconvert_exporter": "python",
   "pygments_lexer": "ipython3",
   "version": "3.12.3"
  }
 },
 "nbformat": 4,
 "nbformat_minor": 5
}
